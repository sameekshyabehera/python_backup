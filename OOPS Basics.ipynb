{
 "cells": [
  {
   "cell_type": "code",
   "execution_count": 20,
   "metadata": {},
   "outputs": [],
   "source": [
    "class Dog():\n",
    "    species='Mamal'\n",
    "    def __init__(self, breed, name):\n",
    "        self.breed=breed\n",
    "        self.name=name\n",
    "    def bark(self,number):\n",
    "        print(\"Wohh, my name is {} and number is {}\".format(self.name,number))\n",
    "        "
   ]
  },
  {
   "cell_type": "code",
   "execution_count": 21,
   "metadata": {},
   "outputs": [
    {
     "name": "stdout",
     "output_type": "stream",
     "text": [
      "Wohh, my name is Johny and number is 13\n"
     ]
    }
   ],
   "source": [
    "my_dog=Dog('lab', 'Johny')\n",
    "my_dog.bark(13)\n",
    "\n"
   ]
  },
  {
   "cell_type": "code",
   "execution_count": 30,
   "metadata": {},
   "outputs": [
    {
     "data": {
      "text/plain": [
       "1800"
      ]
     },
     "execution_count": 30,
     "metadata": {},
     "output_type": "execute_result"
    }
   ],
   "source": [
    "class Circle():\n",
    "    pi=3.14\n",
    "    def __init__(self, radius=1):\n",
    "        self.radius=radius\n",
    "    def circumference(self):\n",
    "        return self.radius*2*self.radius\n",
    "my_circle= Circle(30)\n",
    "my_circle.circumference()\n",
    "#my_circle.pi\n",
    "#my_circle.radius"
   ]
  },
  {
   "cell_type": "code",
   "execution_count": null,
   "metadata": {},
   "outputs": [],
   "source": []
  }
 ],
 "metadata": {
  "kernelspec": {
   "display_name": "Python 3",
   "language": "python",
   "name": "python3"
  },
  "language_info": {
   "codemirror_mode": {
    "name": "ipython",
    "version": 3
   },
   "file_extension": ".py",
   "mimetype": "text/x-python",
   "name": "python",
   "nbconvert_exporter": "python",
   "pygments_lexer": "ipython3",
   "version": "3.7.4"
  }
 },
 "nbformat": 4,
 "nbformat_minor": 2
}
